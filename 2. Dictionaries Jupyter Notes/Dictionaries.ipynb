{
 "cells": [
  {
   "cell_type": "markdown",
   "id": "8fad3a3d",
   "metadata": {},
   "source": [
    "# Python Dictionaries"
   ]
  },
  {
   "cell_type": "code",
   "execution_count": 5,
   "id": "a2370de8",
   "metadata": {},
   "outputs": [
    {
     "name": "stdout",
     "output_type": "stream",
     "text": [
      "{'hemant': 'Engineer', 'taylor': 'Singer', 'Amish': 'python Developer', 'Aniket': 29}\n",
      "4\n"
     ]
    }
   ],
   "source": [
    "dct = {\"hemant\": \"Engineer\", \"taylor\": \"Singer\", \n",
    "       \"Amish\": \"python Developer\", \"Aniket\": 29}\n",
    "print(dct)\n",
    "print(len(dct))"
   ]
  },
  {
   "cell_type": "code",
   "execution_count": 9,
   "id": "cb4f0c51",
   "metadata": {},
   "outputs": [
    {
     "name": "stdout",
     "output_type": "stream",
     "text": [
      "{'hemant': 'Engineer', 'taylor': 'Singer', 'Amish': 'python Developer', 'Aniket': 29, 'color': ['red', 'Black', 'yellow']}\n"
     ]
    }
   ],
   "source": [
    "dct = {\"hemant\": \"Engineer\", \"taylor\": \"Singer\", \n",
    "       \"Amish\": \"python Developer\", \"Aniket\": 29, \n",
    "       \"color\": [\"red\", \"Black\", \"yellow\"]}\n",
    "print(dct)"
   ]
  },
  {
   "cell_type": "markdown",
   "id": "9de5fc7b",
   "metadata": {},
   "source": [
    "# Access Dictionary Items"
   ]
  },
  {
   "cell_type": "code",
   "execution_count": 10,
   "id": "4da91d3f",
   "metadata": {},
   "outputs": [
    {
     "name": "stdout",
     "output_type": "stream",
     "text": [
      "python Developer\n"
     ]
    }
   ],
   "source": [
    "dct = {\"hemant\": \"Engineer\", \"taylor\": \"Singer\", \n",
    "       \"Amish\": \"python Developer\", \"Aniket\": 29, \n",
    "       \"color\": [\"red\", \"Black\", \"yellow\"]}\n",
    "print(dct[\"Amish\"])"
   ]
  },
  {
   "cell_type": "code",
   "execution_count": 12,
   "id": "e1d2e7b0",
   "metadata": {},
   "outputs": [
    {
     "name": "stdout",
     "output_type": "stream",
     "text": [
      "python Developer\n"
     ]
    }
   ],
   "source": [
    "dct = {\"hemant\": \"Engineer\", \"taylor\": \"Singer\", \n",
    "       \"Amish\": \"python Developer\", \"Aniket\": 29, \n",
    "       \"color\": [\"red\", \"Black\", \"yellow\"]}\n",
    "print(dct.get(\"Amish\"))"
   ]
  },
  {
   "cell_type": "code",
   "execution_count": 23,
   "id": "af16c80b",
   "metadata": {},
   "outputs": [
    {
     "data": {
      "text/plain": [
       "dict_keys(['hemant', 'taylor', 'Amish', 'Aniket', 'color'])"
      ]
     },
     "execution_count": 23,
     "metadata": {},
     "output_type": "execute_result"
    }
   ],
   "source": [
    "dct = {\"hemant\": \"Engineer\", \"taylor\": \"Singer\", \n",
    "       \"Amish\": \"python Developer\", \"Aniket\": 29, \n",
    "       \"color\": [\"red\", \"Black\", \"yellow\"]}\n",
    "dct.keys()"
   ]
  },
  {
   "cell_type": "code",
   "execution_count": 24,
   "id": "42e1be13",
   "metadata": {},
   "outputs": [
    {
     "data": {
      "text/plain": [
       "dict_values(['Engineer', 'Singer', 'python Developer', 29, ['red', 'Black', 'yellow']])"
      ]
     },
     "execution_count": 24,
     "metadata": {},
     "output_type": "execute_result"
    }
   ],
   "source": [
    "dct.values()"
   ]
  },
  {
   "cell_type": "code",
   "execution_count": 20,
   "id": "cc22555d",
   "metadata": {},
   "outputs": [
    {
     "name": "stdout",
     "output_type": "stream",
     "text": [
      "{'hemant': 'Engineer', 'taylor': 'Singer', 'Amish': 'python Developer', 'Aniket': 29, 'color': ['red', 'Black', 'yellow']}\n"
     ]
    }
   ],
   "source": [
    "dct = {\"hemant\": \"Engineer\", \"taylor\": \"Singer\", \n",
    "       \"Amish\": \"python Developer\", \"Aniket\": 29}\n",
    "dct[\"color\"] = [\"red\", \"Black\", \"yellow\"]\n",
    "print(dct)"
   ]
  },
  {
   "cell_type": "code",
   "execution_count": 25,
   "id": "718466cf",
   "metadata": {},
   "outputs": [
    {
     "name": "stdout",
     "output_type": "stream",
     "text": [
      "{'hemant': 'Engineer', 'taylor': 'Singer', 'Amish': 'python Developer', 'Aniket': 30}\n"
     ]
    }
   ],
   "source": [
    "dct = {\"hemant\": \"Engineer\", \"taylor\": \"Singer\", \n",
    "       \"Amish\": \"python Developer\", \"Aniket\": 29}\n",
    "dct[\"Aniket\"] = 30\n",
    "print(dct)"
   ]
  },
  {
   "cell_type": "code",
   "execution_count": 26,
   "id": "64a2ed6c",
   "metadata": {},
   "outputs": [
    {
     "data": {
      "text/plain": [
       "dict_items([('hemant', 'Engineer'), ('taylor', 'Singer'), ('Amish', 'python Developer'), ('Aniket', 29), ('color', ['red', 'Black', 'yellow'])])"
      ]
     },
     "execution_count": 26,
     "metadata": {},
     "output_type": "execute_result"
    }
   ],
   "source": [
    "dct = {\"hemant\": \"Engineer\", \"taylor\": \"Singer\", \n",
    "       \"Amish\": \"python Developer\", \"Aniket\": 29, \n",
    "       \"color\": [\"red\", \"Black\", \"yellow\"]}\n",
    "dct.items()"
   ]
  },
  {
   "cell_type": "code",
   "execution_count": 27,
   "id": "79f8a31a",
   "metadata": {},
   "outputs": [
    {
     "name": "stdout",
     "output_type": "stream",
     "text": [
      "True\n"
     ]
    }
   ],
   "source": [
    "dct = {\"hemant\": \"Engineer\", \"taylor\": \"Singer\", \n",
    "       \"Amish\": \"python Developer\", \"Aniket\": 29, \n",
    "       \"color\": [\"red\", \"Black\", \"yellow\"]}\n",
    "print(\"Amish\" in dct)"
   ]
  },
  {
   "cell_type": "markdown",
   "id": "85a394d6",
   "metadata": {},
   "source": [
    "# Change Dictionary Items"
   ]
  },
  {
   "cell_type": "code",
   "execution_count": 34,
   "id": "fc531994",
   "metadata": {},
   "outputs": [
    {
     "name": "stdout",
     "output_type": "stream",
     "text": [
      "{'hemant': 30, 'taylor': 'Singer', 'Amish': 'python Developer', 'Aniket': 29, 'color': ['red', 'Black', 'yellow']}\n"
     ]
    }
   ],
   "source": [
    "dct = {\"hemant\": \"Engineer\", \"taylor\": \"Singer\", \n",
    "       \"Amish\": \"python Developer\", \"Aniket\": 29, \n",
    "       \"color\": [\"red\", \"Black\", \"yellow\"]}\n",
    "dct[\"hemant\"] = 30\n",
    "print(dct)"
   ]
  },
  {
   "cell_type": "code",
   "execution_count": 32,
   "id": "12fa1ac3",
   "metadata": {},
   "outputs": [
    {
     "name": "stdout",
     "output_type": "stream",
     "text": [
      "{'hemant': 30, 'taylor': 'Singer', 'Amish': 'python Developer', 'Aniket': 29, 'color': ['red', 'Black', 'yellow']}\n",
      "{'hemant': 30, 'taylor': 'Singer', 'Amish': 'python Developer', 'Aniket': 29, 'color': 'Black'}\n"
     ]
    }
   ],
   "source": [
    "dct = {\"hemant\": \"Engineer\", \"taylor\": \"Singer\", \n",
    "       \"Amish\": \"python Developer\", \"Aniket\": 29, \n",
    "       \"color\": [\"red\", \"Black\", \"yellow\"]}\n",
    "dct.update({\"hemant\": 30})\n",
    "print(dct)\n",
    "dct.update({\"color\": \"Black\"})\n",
    "print(dct)"
   ]
  },
  {
   "cell_type": "markdown",
   "id": "4314104e",
   "metadata": {},
   "source": [
    "# Add Dictionary Items"
   ]
  },
  {
   "cell_type": "code",
   "execution_count": 35,
   "id": "18db574d",
   "metadata": {},
   "outputs": [
    {
     "name": "stdout",
     "output_type": "stream",
     "text": [
      "{'hemant': 'Engineer', 'taylor': 'Singer', 'Amish': 'python Developer', 'Aniket': 29, 'color': 'Red'}\n"
     ]
    }
   ],
   "source": [
    "dct = {\"hemant\": \"Engineer\", \"taylor\": \"Singer\", \n",
    "       \"Amish\": \"python Developer\", \"Aniket\": 29 \n",
    "}\n",
    "dct['color'] = 'Red'\n",
    "print(dct)"
   ]
  },
  {
   "cell_type": "code",
   "execution_count": 37,
   "id": "fa9d32f3",
   "metadata": {},
   "outputs": [
    {
     "name": "stdout",
     "output_type": "stream",
     "text": [
      "{'hemant': 'Engineer', 'taylor': 'Singer', 'Amish': 'python Developer', 'Aniket': 29, 'color': 'Red'}\n"
     ]
    }
   ],
   "source": [
    "dct = {\"hemant\": \"Engineer\", \"taylor\": \"Singer\", \n",
    "       \"Amish\": \"python Developer\", \"Aniket\": 29 \n",
    "}\n",
    "dct.update({'color': 'Red'})\n",
    "print(dct)"
   ]
  },
  {
   "cell_type": "markdown",
   "id": "ddd61d28",
   "metadata": {},
   "source": [
    "# Remove Dictionary Items"
   ]
  },
  {
   "cell_type": "code",
   "execution_count": 38,
   "id": "efe4ec16",
   "metadata": {},
   "outputs": [
    {
     "name": "stdout",
     "output_type": "stream",
     "text": [
      "{'hemant': 'Engineer', 'taylor': 'Singer', 'Aniket': 29, 'color': ['red', 'Black', 'yellow']}\n"
     ]
    }
   ],
   "source": [
    "dct = {\"hemant\": \"Engineer\", \"taylor\": \"Singer\", \n",
    "       \"Amish\": \"python Developer\", \"Aniket\": 29, \n",
    "       \"color\": [\"red\", \"Black\", \"yellow\"]}\n",
    "dct.pop(\"Amish\")\n",
    "print(dct)"
   ]
  },
  {
   "cell_type": "code",
   "execution_count": 40,
   "id": "b1394b23",
   "metadata": {},
   "outputs": [
    {
     "name": "stdout",
     "output_type": "stream",
     "text": [
      "{'hemant': 'Engineer', 'taylor': 'Singer', 'Amish': 'python Developer', 'Aniket': 29}\n"
     ]
    }
   ],
   "source": [
    "dct = {\"hemant\": \"Engineer\", \"taylor\": \"Singer\", \n",
    "       \"Amish\": \"python Developer\", \"Aniket\": 29, \n",
    "       \"color\": [\"red\", \"Black\", \"yellow\"]}\n",
    "dct.popitem()\n",
    "print(dct)"
   ]
  },
  {
   "cell_type": "code",
   "execution_count": 41,
   "id": "df15a109",
   "metadata": {},
   "outputs": [
    {
     "name": "stdout",
     "output_type": "stream",
     "text": [
      "{'hemant': 'Engineer', 'taylor': 'Singer', 'Amish': 'python Developer', 'color': ['red', 'Black', 'yellow']}\n"
     ]
    }
   ],
   "source": [
    "dct = {\"hemant\": \"Engineer\", \"taylor\": \"Singer\", \n",
    "       \"Amish\": \"python Developer\", \"Aniket\": 29, \n",
    "       \"color\": [\"red\", \"Black\", \"yellow\"]}\n",
    "del dct['Aniket']\n",
    "print(dct)"
   ]
  },
  {
   "cell_type": "code",
   "execution_count": 43,
   "id": "4d553e4a",
   "metadata": {},
   "outputs": [
    {
     "name": "stdout",
     "output_type": "stream",
     "text": [
      "{}\n"
     ]
    }
   ],
   "source": [
    "dct = {\"hemant\": \"Engineer\", \"taylor\": \"Singer\", \n",
    "       \"Amish\": \"python Developer\", \"Aniket\": 29, \n",
    "       \"color\": [\"red\", \"Black\", \"yellow\"]}\n",
    "dct.clear()\n",
    "print(dct)"
   ]
  },
  {
   "cell_type": "markdown",
   "id": "a765d07f",
   "metadata": {},
   "source": [
    "# Loop Dictionaries"
   ]
  },
  {
   "cell_type": "code",
   "execution_count": 49,
   "id": "76bb2f37",
   "metadata": {},
   "outputs": [
    {
     "name": "stdout",
     "output_type": "stream",
     "text": [
      "hemant\n",
      "taylor\n",
      "Amish\n",
      "Aniket\n",
      "color\n"
     ]
    }
   ],
   "source": [
    "dct = {\"hemant\": \"Engineer\", \"taylor\": \"Singer\", \n",
    "       \"Amish\": \"python Developer\", \"Aniket\": 29, \n",
    "       \"color\": [\"red\", \"Black\", \"yellow\"]}\n",
    "for x in dct:\n",
    "    print(x)\n"
   ]
  },
  {
   "cell_type": "code",
   "execution_count": 54,
   "id": "6dfbc2fb",
   "metadata": {},
   "outputs": [
    {
     "name": "stdout",
     "output_type": "stream",
     "text": [
      "hemant\n",
      "taylor\n",
      "Amish\n",
      "Aniket\n",
      "color\n"
     ]
    }
   ],
   "source": [
    "dct = {\"hemant\": \"Engineer\", \"taylor\": \"Singer\", \n",
    "       \"Amish\": \"python Developer\", \"Aniket\": 29, \n",
    "       \"color\": [\"red\", \"Black\", \"yellow\"]}\n",
    "for x in dct.keys():\n",
    "    print(x)"
   ]
  },
  {
   "cell_type": "code",
   "execution_count": 52,
   "id": "f9be6e5e",
   "metadata": {},
   "outputs": [
    {
     "name": "stdout",
     "output_type": "stream",
     "text": [
      "Engineer\n",
      "Singer\n",
      "python Developer\n",
      "29\n",
      "['red', 'Black', 'yellow']\n"
     ]
    }
   ],
   "source": [
    "dct = {\"hemant\": \"Engineer\", \"taylor\": \"Singer\", \n",
    "       \"Amish\": \"python Developer\", \"Aniket\": 29, \n",
    "       \"color\": [\"red\", \"Black\", \"yellow\"]}\n",
    "for x in dct:\n",
    "    print(dct[x])"
   ]
  },
  {
   "cell_type": "code",
   "execution_count": 53,
   "id": "5b24c787",
   "metadata": {},
   "outputs": [
    {
     "name": "stdout",
     "output_type": "stream",
     "text": [
      "Engineer\n",
      "Singer\n",
      "python Developer\n",
      "29\n",
      "['red', 'Black', 'yellow']\n"
     ]
    }
   ],
   "source": [
    "dct = {\"hemant\": \"Engineer\", \"taylor\": \"Singer\", \n",
    "       \"Amish\": \"python Developer\", \"Aniket\": 29, \n",
    "       \"color\": [\"red\", \"Black\", \"yellow\"]}\n",
    "for x in dct.values():\n",
    "    print(x)"
   ]
  },
  {
   "cell_type": "code",
   "execution_count": 56,
   "id": "083cb9f6",
   "metadata": {},
   "outputs": [
    {
     "name": "stdout",
     "output_type": "stream",
     "text": [
      "hemant is Engineer\n",
      "taylor is Singer\n",
      "Amish is python Developer\n",
      "Aniket is 29\n",
      "color is ['red', 'Black', 'yellow']\n"
     ]
    }
   ],
   "source": [
    "dct = {\"hemant\": \"Engineer\", \"taylor\": \"Singer\", \n",
    "       \"Amish\": \"python Developer\", \"Aniket\": 29, \n",
    "       \"color\": [\"red\", \"Black\", \"yellow\"]}\n",
    "for x, y in dct.items():\n",
    "    print(x, 'is', y)"
   ]
  },
  {
   "cell_type": "markdown",
   "id": "ff351c51",
   "metadata": {},
   "source": [
    "# Copy Dictionaries"
   ]
  },
  {
   "cell_type": "code",
   "execution_count": 57,
   "id": "ca4961ed",
   "metadata": {},
   "outputs": [
    {
     "name": "stdout",
     "output_type": "stream",
     "text": [
      "{'hemant': 'Engineer', 'taylor': 'Singer', 'Amish': 'python Developer', 'Aniket': 29, 'color': ['red', 'Black', 'yellow']}\n"
     ]
    }
   ],
   "source": [
    "dct = {\"hemant\": \"Engineer\", \"taylor\": \"Singer\", \n",
    "       \"Amish\": \"python Developer\", \"Aniket\": 29, \n",
    "       \"color\": [\"red\", \"Black\", \"yellow\"]}\n",
    "dctcopy = dct.copy()\n",
    "print(dctcopy)"
   ]
  },
  {
   "cell_type": "code",
   "execution_count": 58,
   "id": "59c71a74",
   "metadata": {},
   "outputs": [
    {
     "name": "stdout",
     "output_type": "stream",
     "text": [
      "{'hemant': 'Engineer', 'taylor': 'Singer', 'Amish': 'python Developer', 'Aniket': 29, 'color': ['red', 'Black', 'yellow']}\n"
     ]
    }
   ],
   "source": [
    "dct = {\"hemant\": \"Engineer\", \"taylor\": \"Singer\", \n",
    "       \"Amish\": \"python Developer\", \"Aniket\": 29, \n",
    "       \"color\": [\"red\", \"Black\", \"yellow\"]}\n",
    "dctcopy = dict(dct)\n",
    "print(dctcopy)"
   ]
  },
  {
   "cell_type": "markdown",
   "id": "7a6f116b",
   "metadata": {},
   "source": [
    "# Nested Dictionaries"
   ]
  },
  {
   "cell_type": "code",
   "execution_count": 60,
   "id": "202701e6",
   "metadata": {},
   "outputs": [
    {
     "name": "stdout",
     "output_type": "stream",
     "text": [
      "{'child1': {'name': 'Emil', 'year': 2004}, 'child2': {'name': 'Tobias', 'year': 2007}, 'child3': {'name': 'Linus', 'year': 2011}}\n"
     ]
    }
   ],
   "source": [
    "child1 = {\n",
    "  \"name\" : \"Email\",\n",
    "  \"year\" : 2004\n",
    "}\n",
    "child2 = {\n",
    "  \"name\" : \"Tobias\",\n",
    "  \"year\" : 2007\n",
    "}\n",
    "child3 = {\n",
    "  \"name\" : \"Linus\",\n",
    "  \"year\" : 2011\n",
    "}\n",
    "\n",
    "parent = {\n",
    "  \"child1\" : child1,\n",
    "  \"child2\" : child2,\n",
    "  \"child3\" : child3\n",
    "}\n",
    "print(parent)"
   ]
  },
  {
   "cell_type": "markdown",
   "id": "0db2a108",
   "metadata": {},
   "source": [
    "# Method\t\tDescription\n",
    "clear()\t\tRemoves all the elements from the dictionary\n",
    "copy()\t\tReturns a copy of the dictionary\n",
    "fromkeys()\tReturns a dictionary with the specified keys and value\n",
    "get()\t\tReturns the value of the specified key\n",
    "items()\t\tReturns a list containing a tuple for each key value pair\n",
    "keys()\t\tReturns a list containing the dictionary's keys\n",
    "pop()\t\tRemoves the element with the specified key\n",
    "popitem()\tRemoves the last inserted key-value pair\n",
    "setdefault()\tReturns the value of the specified key. If the key does not exist: insert the key, with the specified value\n",
    "update()\tUpdates the dictionary with the specified key-value pairs\n",
    "values()\tReturns a list of all the values in the dictionary"
   ]
  },
  {
   "cell_type": "code",
   "execution_count": 80,
   "id": "a1c461dd",
   "metadata": {},
   "outputs": [
    {
     "name": "stdout",
     "output_type": "stream",
     "text": [
      "          Method                                                                                                  Description\n",
      "0        clear()                                                                 Removes all the elements from the dictionary\n",
      "1         copy()                                                                             Returns a copy of the dictionary\n",
      "2     fromkeys()                                                       Returns a dictionary with the specified keys and value\n",
      "3          get()                                                                       Returns the value of the specified key\n",
      "4        items()                                                    Returns a list containing a tuple for each key value pair\n",
      "5         keys()                                                              Returns a list containing the dictionary's keys\n",
      "6          pop()                                                                   Removes the element with the specified key\n",
      "7      popitem()                                                                     Removes the last inserted key-value pair\n",
      "8   setdefault()  Returns the value of the specified key. If the key does not exist: insert the key, with the specified value\n",
      "9       update()                                                    Updates the dictionary with the specified key-value pairs\n",
      "10      values()                                                           Returns a list of all the values in the dictionary\n"
     ]
    }
   ],
   "source": [
    "import pandas as pd\n",
    "dct = {'Method': {0: 'clear()', 1: 'copy()', 2: 'fromkeys()', 3: 'get()', \n",
    "                  4: 'items()', 5: 'keys()', 6: 'pop()', 7: 'popitem()', \n",
    "                  8: 'setdefault()', 9: 'update()', 10: 'values()'\n",
    "                 }, \n",
    "       'Description': {0: 'Removes all the elements from the dictionary', \n",
    "                       1: 'Returns a copy of the dictionary', \n",
    "                       2: 'Returns a dictionary with the specified keys and value', \n",
    "                       3: 'Returns the value of the specified key', \n",
    "                       4: 'Returns a list containing a tuple for each key value pair', \n",
    "                       5: \"Returns a list containing the dictionary's keys\", \n",
    "                       6: 'Removes the element with the specified key', \n",
    "                       7: 'Removes the last inserted key-value pair', \n",
    "                       8: 'Returns the value of the specified key. If the key does not exist: insert the key, with the specified value', \n",
    "                       9: 'Updates the dictionary with the specified key-value pairs', \n",
    "                       10: 'Returns a list of all the values in the dictionary'\n",
    "                      }\n",
    "      }\n",
    "\n",
    "df = pd.DataFrame(dct)\n",
    "print(df.to_string())"
   ]
  },
  {
   "cell_type": "markdown",
   "id": "ec140507",
   "metadata": {},
   "source": [
    "# Python JSON"
   ]
  },
  {
   "cell_type": "code",
   "execution_count": 85,
   "id": "64102f55",
   "metadata": {},
   "outputs": [
    {
     "name": "stdout",
     "output_type": "stream",
     "text": [
      "{'hemant': 'Engineer', 'taylor': 'Singer', 'Amish': 'python Developer', 'Aniket': 29, 'color': ['red', 'Black', 'yellow']}\n"
     ]
    }
   ],
   "source": [
    "import json\n",
    "dct = '''{\"hemant\": \"Engineer\", \"taylor\": \"Singer\", \n",
    "       \"Amish\": \"python Developer\", \"Aniket\": 29, \n",
    "       \"color\": [\"red\", \"Black\", \"yellow\"]}'''\n",
    "\n",
    "y = json.loads(dct)\n",
    "print(y['Amish'])"
   ]
  },
  {
   "cell_type": "code",
   "execution_count": 86,
   "id": "4cdb65a3",
   "metadata": {},
   "outputs": [
    {
     "name": "stdout",
     "output_type": "stream",
     "text": [
      "{\"hemant\": \"Engineer\", \"taylor\": \"Singer\", \"Amish\": \"python Developer\", \"Aniket\": 29, \"color\": [\"red\", \"Black\", \"yellow\"]}\n"
     ]
    }
   ],
   "source": [
    "import json\n",
    "dct = {\"hemant\": \"Engineer\", \"taylor\": \"Singer\", \n",
    "       \"Amish\": \"python Developer\", \"Aniket\": 29, \n",
    "       \"color\": [\"red\", \"Black\", \"yellow\"]}\n",
    "\n",
    "y = json.dumps(dct)\n",
    "print(y)"
   ]
  },
  {
   "cell_type": "code",
   "execution_count": 88,
   "id": "36c8e248",
   "metadata": {},
   "outputs": [
    {
     "name": "stdout",
     "output_type": "stream",
     "text": [
      "[\"apple\", \"bananas\"]\n",
      "[\"apple\", \"bananas\"]\n",
      "\"hello\"\n",
      "42\n",
      "31.76\n",
      "true\n",
      "false\n",
      "null\n",
      "{\"name\": \"John\", \"age\": 30}\n"
     ]
    }
   ],
   "source": [
    "import json\n",
    "\n",
    "x = json.dumps({\"name\": \"John\", \"age\": 30})\n",
    "print(json.dumps([\"apple\", \"bananas\"]))\n",
    "print(json.dumps((\"apple\", \"bananas\")))\n",
    "print(json.dumps(\"hello\"))\n",
    "print(json.dumps(42))\n",
    "print(json.dumps(31.76))\n",
    "print(json.dumps(True))\n",
    "print(json.dumps(False))\n",
    "print(json.dumps(None))\n",
    "print(x)"
   ]
  },
  {
   "cell_type": "code",
   "execution_count": 89,
   "id": "0c0c2d76",
   "metadata": {},
   "outputs": [
    {
     "name": "stdout",
     "output_type": "stream",
     "text": [
      "{\"name\": \"John\", \"age\": 30, \"married\": true, \"divorced\": false, \"children\": [\"Ann\", \"Billy\"], \"pets\": null, \"cars\": [{\"model\": \"BMW 230\", \"mpg\": 27.5}, {\"model\": \"Ford Edge\", \"mpg\": 24.1}]}\n"
     ]
    }
   ],
   "source": [
    "import json\n",
    "\n",
    "x = {\n",
    "  \"name\": \"John\",\n",
    "  \"age\": 30,\n",
    "  \"married\": True,\n",
    "  \"divorced\": False,\n",
    "  \"children\": (\"Ann\",\"Billy\"),\n",
    "  \"pets\": None,\n",
    "  \"cars\": [\n",
    "    {\"model\": \"BMW 230\", \"mpg\": 27.5},\n",
    "    {\"model\": \"Ford Edge\", \"mpg\": 24.1}\n",
    "  ]\n",
    "}\n",
    "\n",
    "print(json.dumps(x))"
   ]
  },
  {
   "cell_type": "code",
   "execution_count": 90,
   "id": "f46762ec",
   "metadata": {},
   "outputs": [
    {
     "data": {
      "text/plain": [
       "'{\\n    \"name\": \"John\",\\n    \"age\": 30,\\n    \"married\": true,\\n    \"divorced\": false,\\n    \"children\": [\\n        \"Ann\",\\n        \"Billy\"\\n    ],\\n    \"pets\": null,\\n    \"cars\": [\\n        {\\n            \"model\": \"BMW 230\",\\n            \"mpg\": 27.5\\n        },\\n        {\\n            \"model\": \"Ford Edge\",\\n            \"mpg\": 24.1\\n        }\\n    ]\\n}'"
      ]
     },
     "execution_count": 90,
     "metadata": {},
     "output_type": "execute_result"
    }
   ],
   "source": [
    "json.dumps(x, indent=4)"
   ]
  },
  {
   "cell_type": "code",
   "execution_count": 91,
   "id": "f637c8aa",
   "metadata": {},
   "outputs": [
    {
     "data": {
      "text/plain": [
       "'{\\n    \"name\" = \"John\". \\n    \"age\" = 30. \\n    \"married\" = true. \\n    \"divorced\" = false. \\n    \"children\" = [\\n        \"Ann\". \\n        \"Billy\"\\n    ]. \\n    \"pets\" = null. \\n    \"cars\" = [\\n        {\\n            \"model\" = \"BMW 230\". \\n            \"mpg\" = 27.5\\n        }. \\n        {\\n            \"model\" = \"Ford Edge\". \\n            \"mpg\" = 24.1\\n        }\\n    ]\\n}'"
      ]
     },
     "execution_count": 91,
     "metadata": {},
     "output_type": "execute_result"
    }
   ],
   "source": [
    "json.dumps(x, indent=4, separators=(\". \", \" = \"))\n"
   ]
  },
  {
   "cell_type": "code",
   "execution_count": 92,
   "id": "6278d5fb",
   "metadata": {},
   "outputs": [
    {
     "data": {
      "text/plain": [
       "'{\\n    \"age\": 30,\\n    \"cars\": [\\n        {\\n            \"model\": \"BMW 230\",\\n            \"mpg\": 27.5\\n        },\\n        {\\n            \"model\": \"Ford Edge\",\\n            \"mpg\": 24.1\\n        }\\n    ],\\n    \"children\": [\\n        \"Ann\",\\n        \"Billy\"\\n    ],\\n    \"divorced\": false,\\n    \"married\": true,\\n    \"name\": \"John\",\\n    \"pets\": null\\n}'"
      ]
     },
     "execution_count": 92,
     "metadata": {},
     "output_type": "execute_result"
    }
   ],
   "source": [
    "json.dumps(x, indent=4, sort_keys=True)"
   ]
  },
  {
   "cell_type": "code",
   "execution_count": 94,
   "id": "0f846942",
   "metadata": {},
   "outputs": [
    {
     "name": "stdout",
     "output_type": "stream",
     "text": [
      "User count: 2\n",
      "Name Chuck\n",
      "Id 001\n",
      "Attribute 2\n",
      "Name Brent\n",
      "Id 009\n",
      "Attribute 7\n"
     ]
    }
   ],
   "source": [
    "import json\n",
    "data = '''\n",
    "[\n",
    "{ \"id\" : \"001\",\n",
    "\"x\" : \"2\",\n",
    "\"name\" : \"Chuck\"\n",
    "} ,\n",
    "{ \"id\" : \"009\",\n",
    "\"x\" : \"7\",\n",
    "\"name\" : \"Brent\"\n",
    "}\n",
    "]'''\n",
    "\n",
    "info = json.loads(data)\n",
    "print('User count:', len(info))\n",
    "for item in info:\n",
    "    print('Name', item['name'])\n",
    "    print('Id', item['id'])\n",
    "    print('Attribute', item['x'])"
   ]
  },
  {
   "cell_type": "code",
   "execution_count": null,
   "id": "7f3345da",
   "metadata": {},
   "outputs": [],
   "source": []
  }
 ],
 "metadata": {
  "kernelspec": {
   "display_name": "Python 3",
   "language": "python",
   "name": "python3"
  },
  "language_info": {
   "codemirror_mode": {
    "name": "ipython",
    "version": 3
   },
   "file_extension": ".py",
   "mimetype": "text/x-python",
   "name": "python",
   "nbconvert_exporter": "python",
   "pygments_lexer": "ipython3",
   "version": "3.8.8"
  }
 },
 "nbformat": 4,
 "nbformat_minor": 5
}
