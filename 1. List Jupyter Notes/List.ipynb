{
 "cells": [
  {
   "cell_type": "markdown",
   "id": "1fd89e50",
   "metadata": {},
   "source": [
    "# Python List"
   ]
  },
  {
   "cell_type": "code",
   "execution_count": 1,
   "id": "6a203c17",
   "metadata": {},
   "outputs": [
    {
     "name": "stdout",
     "output_type": "stream",
     "text": [
      "['hemant', 'hitesh', 'amish']\n"
     ]
    }
   ],
   "source": [
    "lst = [\"hemant\", \"hitesh\", \"amish\"]\n",
    "print(lst)"
   ]
  },
  {
   "cell_type": "code",
   "execution_count": 3,
   "id": "6d6b08d6",
   "metadata": {},
   "outputs": [
    {
     "name": "stdout",
     "output_type": "stream",
     "text": [
      "3\n"
     ]
    }
   ],
   "source": [
    "#list lenght\n",
    "print(len(lst))"
   ]
  },
  {
   "cell_type": "code",
   "execution_count": 5,
   "id": "ded79f45",
   "metadata": {},
   "outputs": [
    {
     "name": "stdout",
     "output_type": "stream",
     "text": [
      "<class 'list'>\n"
     ]
    }
   ],
   "source": [
    "lst = [\"hemant\", 30, True, \"taylor\"]\n",
    "print(type(lst))"
   ]
  },
  {
   "cell_type": "code",
   "execution_count": 6,
   "id": "fd078cb5",
   "metadata": {},
   "outputs": [
    {
     "name": "stdout",
     "output_type": "stream",
     "text": [
      "['hemant', 'taylor', 'christina']\n"
     ]
    }
   ],
   "source": [
    "lst = list((\"hemant\", \"taylor\", \"christina\"))\n",
    "print(lst)"
   ]
  },
  {
   "cell_type": "markdown",
   "id": "bb048061",
   "metadata": {},
   "source": [
    "# Access list Iteams"
   ]
  },
  {
   "cell_type": "code",
   "execution_count": 7,
   "id": "a29dc1a5",
   "metadata": {},
   "outputs": [
    {
     "name": "stdout",
     "output_type": "stream",
     "text": [
      "taylor\n"
     ]
    }
   ],
   "source": [
    "lst = [\"hemant\", \"taylor\", \"christina\"]\n",
    "print(lst[1])"
   ]
  },
  {
   "cell_type": "code",
   "execution_count": 8,
   "id": "a1fa7bf7",
   "metadata": {},
   "outputs": [
    {
     "name": "stdout",
     "output_type": "stream",
     "text": [
      "christina\n"
     ]
    }
   ],
   "source": [
    "print(lst[-1])"
   ]
  },
  {
   "cell_type": "code",
   "execution_count": 16,
   "id": "d84a22d9",
   "metadata": {},
   "outputs": [
    {
     "name": "stdout",
     "output_type": "stream",
     "text": [
      "['taylor', 'christina', 'hitesh', 'justine', 'billi', 'shawn']\n",
      "['hemant', 'taylor', 'christina', 'hitesh', 'justine']\n",
      "['christina', 'hitesh', 'justine', 'billi', 'shawn', 'adele']\n"
     ]
    }
   ],
   "source": [
    "lst = [\"hemant\", \"taylor\", \"christina\", \"hitesh\", \"justine\", \"billi\", \"shawn\", \"adele\"]\n",
    "print(lst[1:7])\n",
    "print(lst[:5])\n",
    "print(lst[2:])"
   ]
  },
  {
   "cell_type": "code",
   "execution_count": 17,
   "id": "a36b162e",
   "metadata": {},
   "outputs": [
    {
     "name": "stdout",
     "output_type": "stream",
     "text": [
      "True\n"
     ]
    }
   ],
   "source": [
    "lst = [\"hemant\", \"taylor\", \"christina\", \"hitesh\", \"justine\", \"billi\", \"shawn\", \"adele\"]\n",
    "print(\"hitesh\" in lst)"
   ]
  },
  {
   "cell_type": "markdown",
   "id": "584c2656",
   "metadata": {},
   "source": [
    "# Change List Items"
   ]
  },
  {
   "cell_type": "code",
   "execution_count": 25,
   "id": "ad35add2",
   "metadata": {},
   "outputs": [
    {
     "name": "stdout",
     "output_type": "stream",
     "text": [
      "['hemant', 'halsey', 'christina', 'hitesh', 'justine', 'billi', 'shawn', 'adele']\n"
     ]
    }
   ],
   "source": [
    "lst = [\"hemant\", \"taylor\", \"christina\", \"hitesh\", \"justine\", \"billi\", \"shawn\", \"adele\"]\n",
    "lst[1] = \"halsey\"\n",
    "print(lst)\n"
   ]
  },
  {
   "cell_type": "code",
   "execution_count": 20,
   "id": "ad43b070",
   "metadata": {},
   "outputs": [
    {
     "name": "stdout",
     "output_type": "stream",
     "text": [
      "['hemant', 'halsey', 'rachal', 'christina', 'hitesh', 'justine', 'billi', 'shawn']\n"
     ]
    }
   ],
   "source": [
    "lst = [\"hemant\", \"taylor\", \"christina\", \"hitesh\", \"justine\", \"billi\", \"shawn\"]\n",
    "lst[1:2] = [\"halsey\", \"rachal\"]\n",
    "print(lst)"
   ]
  },
  {
   "cell_type": "code",
   "execution_count": 21,
   "id": "87aca442",
   "metadata": {},
   "outputs": [
    {
     "name": "stdout",
     "output_type": "stream",
     "text": [
      "['hemant', 'halsey', 'hitesh', 'justine', 'billi', 'shawn']\n"
     ]
    }
   ],
   "source": [
    "lst = [\"hemant\", \"taylor\", \"christina\", \"hitesh\", \"justine\", \"billi\", \"shawn\"]\n",
    "lst[1:3] = [\"halsey\"]\n",
    "print(lst)"
   ]
  },
  {
   "cell_type": "markdown",
   "id": "f12c8aed",
   "metadata": {},
   "source": [
    "# Add list iteams"
   ]
  },
  {
   "cell_type": "code",
   "execution_count": 36,
   "id": "dd31c4dc",
   "metadata": {},
   "outputs": [
    {
     "name": "stdout",
     "output_type": "stream",
     "text": [
      "['hemant', 'taylor', 'christina', 'hitesh', 'justine', 'billi', 'shawn', 'halsey']\n"
     ]
    }
   ],
   "source": [
    "lst = [\"hemant\", \"taylor\", \"christina\", \"hitesh\", \"justine\", \"billi\", \"shawn\"]\n",
    "lst.append(\"halsey\")\n",
    "print(lst)"
   ]
  },
  {
   "cell_type": "code",
   "execution_count": 37,
   "id": "9d86be74",
   "metadata": {},
   "outputs": [
    {
     "name": "stdout",
     "output_type": "stream",
     "text": [
      "['hemant', 'taylor', 'halsey', 'christina', 'hitesh', 'justine', 'billi', 'shawn']\n"
     ]
    }
   ],
   "source": [
    "lst = [\"hemant\", \"taylor\", \"christina\", \"hitesh\", \"justine\", \"billi\", \"shawn\"]\n",
    "lst.insert(2, \"halsey\")\n",
    "print(lst)"
   ]
  },
  {
   "cell_type": "code",
   "execution_count": 43,
   "id": "3c1500e8",
   "metadata": {},
   "outputs": [
    {
     "name": "stdout",
     "output_type": "stream",
     "text": [
      "['hemant', 'taylor', 'christina', 'hitesh', 'justine', 'billi', 'shawn']\n"
     ]
    }
   ],
   "source": [
    "lst1 = [\"hemant\", \"taylor\", \"christina\"]\n",
    "lst2 = [\"hitesh\", \"justine\", \"billi\", \"shawn\"]\n",
    "lst1.extend(lst2)\n",
    "print(lst1)"
   ]
  },
  {
   "cell_type": "code",
   "execution_count": 45,
   "id": "6e7027e3",
   "metadata": {},
   "outputs": [
    {
     "name": "stdout",
     "output_type": "stream",
     "text": [
      "['hemant', 'taylor', 'christina', 'hitesh', 'justine', 'billi', 'shawn', 'halsey', 'aniket']\n"
     ]
    }
   ],
   "source": [
    "# add tuple in list \n",
    "lst = [\"hemant\", \"taylor\", \"christina\", \"hitesh\", \"justine\", \"billi\", \"shawn\"]\n",
    "tpl = (\"halsey\", \"aniket\")\n",
    "lst.extend(tpl)\n",
    "print(lst)"
   ]
  },
  {
   "cell_type": "code",
   "execution_count": 47,
   "id": "f8695f98",
   "metadata": {},
   "outputs": [
    {
     "name": "stdout",
     "output_type": "stream",
     "text": [
      "['hemant', 'taylor', 'christina', 'hitesh', 'justine', 'billi', 'shawn', 'halsey', 'aniket']\n"
     ]
    }
   ],
   "source": [
    "lst = [\"hemant\", \"taylor\", \"christina\", \"hitesh\", \"justine\", \"billi\", \"shawn\"]\n",
    "dct = {\"halsey\": 1, \"aniket\": 29}\n",
    "lst.extend(dct)\n",
    "print(lst)"
   ]
  },
  {
   "cell_type": "markdown",
   "id": "8857480f",
   "metadata": {},
   "source": [
    "# Remove list Iteams"
   ]
  },
  {
   "cell_type": "code",
   "execution_count": 48,
   "id": "f5d69797",
   "metadata": {},
   "outputs": [
    {
     "name": "stdout",
     "output_type": "stream",
     "text": [
      "['hemant', 'christina', 'hitesh', 'justine', 'billi', 'shawn']\n"
     ]
    }
   ],
   "source": [
    "lst = [\"hemant\", \"taylor\", \"christina\", \"hitesh\", \"justine\", \"billi\", \"shawn\"]\n",
    "lst.remove(\"taylor\")\n",
    "print(lst)"
   ]
  },
  {
   "cell_type": "code",
   "execution_count": 51,
   "id": "bf107fb0",
   "metadata": {},
   "outputs": [
    {
     "name": "stdout",
     "output_type": "stream",
     "text": [
      "['hemant', 'taylor', 'christina', 'hitesh', 'justine', 'billi']\n"
     ]
    }
   ],
   "source": [
    "lst = [\"hemant\", \"taylor\", \"christina\", \"hitesh\", \"justine\", \"billi\", \"shawn\"]\n",
    "lst.pop()\n",
    "print(lst)"
   ]
  },
  {
   "cell_type": "code",
   "execution_count": 54,
   "id": "4e5f1f36",
   "metadata": {},
   "outputs": [
    {
     "name": "stdout",
     "output_type": "stream",
     "text": [
      "['hemant', 'taylor', 'hitesh', 'justine', 'billi', 'shawn']\n"
     ]
    }
   ],
   "source": [
    "lst = [\"hemant\", \"taylor\", \"christina\", \"hitesh\", \"justine\", \"billi\", \"shawn\"]\n",
    "del lst[2]\n",
    "print(lst)"
   ]
  },
  {
   "cell_type": "code",
   "execution_count": 55,
   "id": "74bf4084",
   "metadata": {},
   "outputs": [
    {
     "name": "stdout",
     "output_type": "stream",
     "text": [
      "[]\n"
     ]
    }
   ],
   "source": [
    "lst = [\"hemant\", \"taylor\", \"christina\", \"hitesh\", \"justine\", \"billi\", \"shawn\"]\n",
    "lst.clear()\n",
    "print(lst)"
   ]
  },
  {
   "cell_type": "markdown",
   "id": "853420db",
   "metadata": {},
   "source": [
    "# Loop List"
   ]
  },
  {
   "cell_type": "code",
   "execution_count": 56,
   "id": "f23874fa",
   "metadata": {},
   "outputs": [
    {
     "name": "stdout",
     "output_type": "stream",
     "text": [
      "hemant\n",
      "taylor\n",
      "christina\n",
      "hitesh\n",
      "justine\n",
      "billi\n",
      "shawn\n"
     ]
    }
   ],
   "source": [
    "lst = [\"hemant\", \"taylor\", \"christina\", \"hitesh\", \"justine\", \"billi\", \"shawn\"]\n",
    "for x in lst:\n",
    "    print(x)"
   ]
  },
  {
   "cell_type": "code",
   "execution_count": 58,
   "id": "d364b192",
   "metadata": {},
   "outputs": [
    {
     "name": "stdout",
     "output_type": "stream",
     "text": [
      "hemant\n",
      "taylor\n",
      "christina\n",
      "hitesh\n",
      "justine\n",
      "billi\n",
      "shawn\n"
     ]
    }
   ],
   "source": [
    "lst = [\"hemant\", \"taylor\", \"christina\", \"hitesh\", \"justine\", \"billi\", \"shawn\"]\n",
    "for i in range(len(lst)):\n",
    "    print(lst[i])"
   ]
  },
  {
   "cell_type": "code",
   "execution_count": 59,
   "id": "15614e1d",
   "metadata": {},
   "outputs": [
    {
     "name": "stdout",
     "output_type": "stream",
     "text": [
      "hemant\n",
      "taylor\n",
      "christina\n",
      "hitesh\n",
      "justine\n",
      "billi\n",
      "shawn\n"
     ]
    }
   ],
   "source": [
    "lst = [\"hemant\", \"taylor\", \"christina\", \"hitesh\", \"justine\", \"billi\", \"shawn\"]\n",
    "i = 0\n",
    "while i < len(lst):\n",
    "  print(lst[i])\n",
    "  i = i + 1"
   ]
  },
  {
   "cell_type": "markdown",
   "id": "9f94c281",
   "metadata": {},
   "source": [
    "# List Comprehension"
   ]
  },
  {
   "cell_type": "code",
   "execution_count": 60,
   "id": "0dd39e5b",
   "metadata": {},
   "outputs": [
    {
     "name": "stdout",
     "output_type": "stream",
     "text": [
      "hemant\n",
      "taylor\n",
      "christina\n",
      "hitesh\n",
      "justine\n",
      "billi\n",
      "shawn\n"
     ]
    },
    {
     "data": {
      "text/plain": [
       "[None, None, None, None, None, None, None]"
      ]
     },
     "execution_count": 60,
     "metadata": {},
     "output_type": "execute_result"
    }
   ],
   "source": [
    "lst = [\"hemant\", \"taylor\", \"christina\", \"hitesh\", \"justine\", \"billi\", \"shawn\"]\n",
    "[print(x) for x in lst]"
   ]
  },
  {
   "cell_type": "code",
   "execution_count": 61,
   "id": "37f8a5b5",
   "metadata": {},
   "outputs": [
    {
     "name": "stdout",
     "output_type": "stream",
     "text": [
      "['hemant', 'taylor', 'christina', 'shawn']\n"
     ]
    }
   ],
   "source": [
    "lst1 = [\"hemant\", \"taylor\", \"christina\", \"hitesh\", \"justine\", \"billi\", \"shawn\"]\n",
    "lst2 = [x for x in lst1 if \"a\" in x]\n",
    "print(lst2)"
   ]
  },
  {
   "cell_type": "code",
   "execution_count": 62,
   "id": "c13a5bf1",
   "metadata": {},
   "outputs": [
    {
     "name": "stdout",
     "output_type": "stream",
     "text": [
      "['hemant', 'taylor', 'hitesh', 'justine', 'billi', 'shawn']\n"
     ]
    }
   ],
   "source": [
    "lst1 = [\"hemant\", \"taylor\", \"christina\", \"hitesh\", \"justine\", \"billi\", \"shawn\"]\n",
    "lst2 = [x for x in lst1 if x != \"christina\"]\n",
    "print(lst2)"
   ]
  },
  {
   "cell_type": "code",
   "execution_count": 65,
   "id": "44c6d8bd",
   "metadata": {},
   "outputs": [
    {
     "name": "stdout",
     "output_type": "stream",
     "text": [
      "[0, 1, 2, 3, 4, 5, 6, 7, 8, 9]\n"
     ]
    }
   ],
   "source": [
    "lst2 = [x for x in range(10)]\n",
    "print(lst2)"
   ]
  },
  {
   "cell_type": "code",
   "execution_count": 66,
   "id": "9f721d3e",
   "metadata": {},
   "outputs": [
    {
     "name": "stdout",
     "output_type": "stream",
     "text": [
      "['HEMANT', 'TAYLOR', 'CHRISTINA', 'HITESH', 'JUSTINE', 'BILLI', 'SHAWN']\n"
     ]
    }
   ],
   "source": [
    "lst1 = [\"hemant\", \"taylor\", \"christina\", \"hitesh\", \"justine\", \"billi\", \"shawn\"]\n",
    "lst2 = [x.upper() for x in lst1]\n",
    "print(lst2)"
   ]
  },
  {
   "cell_type": "code",
   "execution_count": 67,
   "id": "1e6d8f03",
   "metadata": {},
   "outputs": [
    {
     "name": "stdout",
     "output_type": "stream",
     "text": [
      "['hemant', 'halsey', 'christina', 'hitesh', 'justine', 'billi', 'shawn']\n"
     ]
    }
   ],
   "source": [
    "lst1 = [\"hemant\", \"taylor\", \"christina\", \"hitesh\", \"justine\", \"billi\", \"shawn\"]\n",
    "lst2 = [x if x != \"taylor\" else \"halsey\" for x in lst1]\n",
    "print(lst2)"
   ]
  },
  {
   "cell_type": "markdown",
   "id": "c5c2dc98",
   "metadata": {},
   "source": [
    "# Sort list "
   ]
  },
  {
   "cell_type": "code",
   "execution_count": 75,
   "id": "dda3a82c",
   "metadata": {},
   "outputs": [
    {
     "name": "stdout",
     "output_type": "stream",
     "text": [
      "['billi', 'christina', 'hemant', 'hitesh', 'justine', 'shawn', 'taylor']\n"
     ]
    }
   ],
   "source": [
    "lst = [\"hemant\", \"taylor\", \"christina\", \"hitesh\", \"justine\", \"billi\", \"shawn\"]\n",
    "lst.sort()\n",
    "print(lst)"
   ]
  },
  {
   "cell_type": "code",
   "execution_count": 76,
   "id": "f8a636e7",
   "metadata": {},
   "outputs": [
    {
     "name": "stdout",
     "output_type": "stream",
     "text": [
      "['taylor', 'shawn', 'justine', 'hitesh', 'hemant', 'christina', 'billi']\n"
     ]
    }
   ],
   "source": [
    "lst = [\"hemant\", \"taylor\", \"christina\", \"hitesh\", \"justine\", \"billi\", \"shawn\"]\n",
    "lst.sort(reverse = True)\n",
    "print(lst)"
   ]
  },
  {
   "cell_type": "code",
   "execution_count": 79,
   "id": "7726b3c7",
   "metadata": {},
   "outputs": [
    {
     "name": "stdout",
     "output_type": "stream",
     "text": [
      "[50, 49, 23, 100, 500, 800]\n"
     ]
    }
   ],
   "source": [
    "def func(n):\n",
    "    return abs(n - 50)\n",
    "\n",
    "lst = [100, 800, 500, 50, 23, 49]\n",
    "lst.sort(key = func)\n",
    "print(lst)"
   ]
  },
  {
   "cell_type": "code",
   "execution_count": 80,
   "id": "1620656d",
   "metadata": {},
   "outputs": [
    {
     "name": "stdout",
     "output_type": "stream",
     "text": [
      "['Christina', 'Hitesh', 'Shawn', 'billi', 'hemant', 'justine', 'taylor']\n"
     ]
    }
   ],
   "source": [
    "lst = [\"hemant\", \"taylor\", \"Christina\", \"Hitesh\", \"justine\", \"billi\", \"Shawn\"]\n",
    "lst.sort()\n",
    "print(lst)"
   ]
  },
  {
   "cell_type": "code",
   "execution_count": 82,
   "id": "611acebe",
   "metadata": {},
   "outputs": [
    {
     "name": "stdout",
     "output_type": "stream",
     "text": [
      "['billi', 'Christina', 'hemant', 'Hitesh', 'justine', 'Shawn', 'taylor']\n"
     ]
    }
   ],
   "source": [
    "lst = [\"hemant\", \"taylor\", \"Christina\", \"Hitesh\", \"justine\", \"billi\", \"Shawn\"]\n",
    "lst.sort(key = str.lower)\n",
    "print(lst)"
   ]
  },
  {
   "cell_type": "code",
   "execution_count": 83,
   "id": "043baaf5",
   "metadata": {},
   "outputs": [
    {
     "name": "stdout",
     "output_type": "stream",
     "text": [
      "['Shawn', 'billi', 'justine', 'Hitesh', 'Christina', 'taylor', 'hemant']\n"
     ]
    }
   ],
   "source": [
    "lst = [\"hemant\", \"taylor\", \"Christina\", \"Hitesh\", \"justine\", \"billi\", \"Shawn\"]\n",
    "lst.reverse()\n",
    "print(lst)"
   ]
  },
  {
   "cell_type": "markdown",
   "id": "32a078b1",
   "metadata": {},
   "source": [
    "# Copy List"
   ]
  },
  {
   "cell_type": "code",
   "execution_count": 86,
   "id": "ea25c4da",
   "metadata": {},
   "outputs": [
    {
     "name": "stdout",
     "output_type": "stream",
     "text": [
      "['hemant', 'taylor', 'Christina', 'Hitesh', 'justine', 'billi', 'Shawn']\n"
     ]
    }
   ],
   "source": [
    "lst1 = [\"hemant\", \"taylor\", \"Christina\", \"Hitesh\", \"justine\", \"billi\", \"Shawn\"]\n",
    "lst2 = lst1.copy()\n",
    "print(lst2)"
   ]
  },
  {
   "cell_type": "code",
   "execution_count": 87,
   "id": "3f1d7359",
   "metadata": {},
   "outputs": [
    {
     "name": "stdout",
     "output_type": "stream",
     "text": [
      "['hemant', 'taylor', 'Christina', 'Hitesh', 'justine', 'billi', 'Shawn']\n"
     ]
    }
   ],
   "source": [
    "lst1 = [\"hemant\", \"taylor\", \"Christina\", \"Hitesh\", \"justine\", \"billi\", \"Shawn\"]\n",
    "lst2 = list(lst1)\n",
    "print(lst2)"
   ]
  },
  {
   "cell_type": "markdown",
   "id": "465b4d36",
   "metadata": {},
   "source": [
    "# Join list"
   ]
  },
  {
   "cell_type": "code",
   "execution_count": 90,
   "id": "a38411ec",
   "metadata": {},
   "outputs": [
    {
     "name": "stdout",
     "output_type": "stream",
     "text": [
      "['hemant', 'taylor', 'Christina', 'Hitesh', 'justine', 'billi', 'Shawn']\n"
     ]
    }
   ],
   "source": [
    "lst1 = [\"hemant\", \"taylor\", \"Christina\"]\n",
    "lst2 = [\"Hitesh\", \"justine\", \"billi\", \"Shawn\"]\n",
    "lst1 = lst1 + lst2\n",
    "print(lst1)"
   ]
  },
  {
   "cell_type": "code",
   "execution_count": 92,
   "id": "55b8e733",
   "metadata": {},
   "outputs": [
    {
     "name": "stdout",
     "output_type": "stream",
     "text": [
      "['hemant', 'taylor', 'Christina', 'Hitesh', 'justine', 'billi', 'Shawn']\n"
     ]
    }
   ],
   "source": [
    "lst1 = [\"hemant\", \"taylor\", \"Christina\"]\n",
    "lst2 = [\"Hitesh\", \"justine\", \"billi\", \"Shawn\"]\n",
    "for word in lst2:\n",
    "    lst1.append(word)\n",
    "print(lst1)"
   ]
  },
  {
   "cell_type": "code",
   "execution_count": 93,
   "id": "62b0f066",
   "metadata": {},
   "outputs": [
    {
     "name": "stdout",
     "output_type": "stream",
     "text": [
      "['hemant', 'taylor', 'Christina', 'Hitesh', 'justine', 'billi', 'Shawn']\n"
     ]
    }
   ],
   "source": [
    "lst1 = [\"hemant\", \"taylor\", \"Christina\"]\n",
    "lst2 = [\"Hitesh\", \"justine\", \"billi\", \"Shawn\"]\n",
    "lst1.extend(lst2)\n",
    "print(lst1)"
   ]
  },
  {
   "cell_type": "markdown",
   "id": "1e42a3eb",
   "metadata": {},
   "source": [
    "# Method\t\tDescription\n",
    "append()\tAdds an element at the end of the list\n",
    "clear()\t\tRemoves all the elements from the list\n",
    "copy()\t\tReturns a copy of the list\n",
    "count()\t\tReturns the number of elements with the specified value\n",
    "extend()\tAdd the elements of a list (or any iterable), to the end of the current list\n",
    "index()\t\tReturns the index of the first element with the specified value\n",
    "insert()\tAdds an element at the specified position\n",
    "pop()\t\tRemoves the element at the specified position\n",
    "remove()\tRemoves the item with the specified value\n",
    "reverse()\tReverses the order of the list\n",
    "sort()\t\tSorts the list"
   ]
  },
  {
   "cell_type": "code",
   "execution_count": 99,
   "id": "bd669974",
   "metadata": {},
   "outputs": [
    {
     "name": "stdout",
     "output_type": "stream",
     "text": [
      "       Method                                                                   Description\n",
      "0    append()                                        Adds an element at the end of the list\n",
      "1     clear()                                        Removes all the elements from the list\n",
      "2      copy()                                                    Returns a copy of the list\n",
      "3     count()                       Returns the number of elements with the specified value\n",
      "4    extend()  Add the elements of a list (or any iterable), to the end of the current list\n",
      "5     index()               Returns the index of the first element with the specified value\n",
      "6    insert()                                     Adds an element at the specified position\n",
      "7       pop()                                 Removes the element at the specified position\n",
      "8    remove()                                     Removes the item with the specified value\n",
      "9   reverse()                                                Reverses the order of the list\n",
      "10     sort()                                                                Sorts the list\n"
     ]
    }
   ],
   "source": [
    "import pandas as pd\n",
    "di = {\"Method\": [\"append()\", \"clear()\", \"copy()\", \"count()\", \"extend()\", \"index()\", \"insert()\", \"pop()\", \"remove()\", \"reverse()\", \"sort()\"], \"Description\": [\"Adds an element at the end of the list\", \"Removes all the elements from the list\", \"Returns a copy of the list\", \"Returns the number of elements with the specified value\", \"Add the elements of a list (or any iterable), to the end of the current list\", \"Returns the index of the first element with the specified value\", \"Adds an element at the specified position\", \"Removes the element at the specified position\", \"Removes the item with the specified value\", \"Reverses the order of the list\", \"Sorts the list\"]}\n",
    "df = pd.DataFrame(di)\n",
    "print(df.to_string())"
   ]
  },
  {
   "cell_type": "code",
   "execution_count": null,
   "id": "6fa828bb",
   "metadata": {},
   "outputs": [],
   "source": []
  }
 ],
 "metadata": {
  "kernelspec": {
   "display_name": "Python 3",
   "language": "python",
   "name": "python3"
  },
  "language_info": {
   "codemirror_mode": {
    "name": "ipython",
    "version": 3
   },
   "file_extension": ".py",
   "mimetype": "text/x-python",
   "name": "python",
   "nbconvert_exporter": "python",
   "pygments_lexer": "ipython3",
   "version": "3.8.8"
  }
 },
 "nbformat": 4,
 "nbformat_minor": 5
}
