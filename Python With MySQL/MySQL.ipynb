{
 "cells": [
  {
   "cell_type": "markdown",
   "id": "a726be39",
   "metadata": {},
   "source": [
    "# Creating a Database"
   ]
  },
  {
   "cell_type": "code",
   "execution_count": 30,
   "id": "b832ac77",
   "metadata": {},
   "outputs": [],
   "source": [
    "import mysql.connector as mydb \n",
    "cnx = mydb.connect(\n",
    "    host = \"localhost\",\n",
    "    user = \"root\",\n",
    "    password = \"\"\n",
    ")\n",
    "cursor = cnx.cursor()\n",
    "cursor.execute(\"CREATE DATABASE university\")"
   ]
  },
  {
   "cell_type": "markdown",
   "id": "bc4449ba",
   "metadata": {},
   "source": [
    "# Check if Database Exists"
   ]
  },
  {
   "cell_type": "code",
   "execution_count": 31,
   "id": "6cac5a85",
   "metadata": {},
   "outputs": [
    {
     "name": "stdout",
     "output_type": "stream",
     "text": [
      "('information_schema',)\n",
      "('mysql',)\n",
      "('performance_schema',)\n",
      "('phpmyadmin',)\n",
      "('test',)\n",
      "('university',)\n"
     ]
    }
   ],
   "source": [
    "cursor.execute(\"SHOW DATABASES\")\n",
    "for x in cursor:\n",
    "  print(x)"
   ]
  },
  {
   "cell_type": "markdown",
   "id": "97e4cfcf",
   "metadata": {},
   "source": [
    "# connecting to the database "
   ]
  },
  {
   "cell_type": "code",
   "execution_count": 32,
   "id": "67e7d206",
   "metadata": {},
   "outputs": [],
   "source": [
    "import mysql.connector as mydb\n",
    "cnx = mydb.connect(host = \"localhost\", user = \"root\", password = \"\", database = \"university\")\n",
    "cursor = cnx.cursor()\n",
    "cursor.execute('CREATE TABLE students (id INT AUTO_INCREMENT PRIMARY KEY, rollno INT, name VARCHAR(20), division VARCHAR(5))')"
   ]
  },
  {
   "cell_type": "markdown",
   "id": "57c4dc40",
   "metadata": {},
   "source": [
    "# Alter DataBase"
   ]
  },
  {
   "cell_type": "code",
   "execution_count": 33,
   "id": "4faaa916",
   "metadata": {},
   "outputs": [],
   "source": [
    "# ALter table column\n",
    "cursor.execute('ALTER TABLE students ADD COLUMN age INT')"
   ]
  },
  {
   "cell_type": "markdown",
   "id": "403f1078",
   "metadata": {},
   "source": [
    "# Insert Into Table"
   ]
  },
  {
   "cell_type": "code",
   "execution_count": 34,
   "id": "790edf6a",
   "metadata": {},
   "outputs": [
    {
     "name": "stdout",
     "output_type": "stream",
     "text": [
      "1 record inserted.\n"
     ]
    }
   ],
   "source": [
    "import mysql.connector as mydb\n",
    "cnx = mydb.connect(host = \"localhost\", user = \"root\", password = \"\", database = \"university\")\n",
    "cursor = cnx.cursor()\n",
    "\n",
    "sql = \"INSERT INTO students (id, name, rollno, division, age) VALUES (1, 'Hemant', 30, 'B', 21)\"\n",
    "\n",
    "cursor.execute(sql)\n",
    "cnx.commit()\n",
    "print(cursor.rowcount, 'record inserted.')"
   ]
  },
  {
   "cell_type": "code",
   "execution_count": 35,
   "id": "ae3d4d36",
   "metadata": {},
   "outputs": [
    {
     "name": "stdout",
     "output_type": "stream",
     "text": [
      "8 was inserted\n"
     ]
    }
   ],
   "source": [
    "#insert many rows\n",
    "import mysql.connector as mydb\n",
    "cnx = mydb.connect(host = \"localhost\", user = \"root\", password = \"\", database = \"university\")\n",
    "cursor = cnx.cursor()\n",
    "\n",
    "sql = \"INSERT INTO students (name, rollno, division, age) VALUES (%s, %s, %s, %s)\"\n",
    "val = [\n",
    "    ('vijay', '90', 'B', '21'),\n",
    "    ('aniket', '29', 'B', '22'),\n",
    "    ('hitesh', '28', 'B', '20'),\n",
    "    ('rohit', '19', 'B', '21'),\n",
    "    ('manu', '24', 'B', '22'),\n",
    "    ('apurva', '25', 'B', '22'),\n",
    "    ('swara', '21', 'B', '23'),\n",
    "    ('sanjeeb', '18', 'B', '22'),  \n",
    "]\n",
    "cursor.executemany(sql, val)\n",
    "cnx.commit()\n",
    "print(cursor.rowcount, 'was inserted')"
   ]
  },
  {
   "cell_type": "code",
   "execution_count": 37,
   "id": "b129d530",
   "metadata": {},
   "outputs": [
    {
     "name": "stdout",
     "output_type": "stream",
     "text": [
      "1 record inserted, ID: 10\n"
     ]
    }
   ],
   "source": [
    "# return the Last Row ID \n",
    "import mysql.connector as mydb\n",
    "cnx = mydb.connect(host = \"localhost\", user = \"root\", password = \"\", database = \"university\")\n",
    "cursor = cnx.cursor()\n",
    "\n",
    "sql = \"INSERT INTO students (name, rollno, division, age) VALUES (%s, %s, %s, %s)\"\n",
    "val = ('sanjana', '12', 'A', '23')\n",
    "cursor.execute(sql, val)\n",
    "cnx.commit()\n",
    "\n",
    "print(\"1 record inserted, ID:\", cursor.lastrowid)"
   ]
  },
  {
   "cell_type": "markdown",
   "id": "bdb59789",
   "metadata": {},
   "source": [
    "# Select From OR fetch data"
   ]
  },
  {
   "cell_type": "code",
   "execution_count": 39,
   "id": "99d8b25a",
   "metadata": {},
   "outputs": [
    {
     "name": "stdout",
     "output_type": "stream",
     "text": [
      "(1, 30, 'Hemant', 'B', 21)\n",
      "(2, 90, 'vijay', 'B', 21)\n",
      "(3, 29, 'aniket', 'B', 22)\n",
      "(4, 28, 'hitesh', 'B', 20)\n",
      "(5, 19, 'rohit', 'B', 21)\n",
      "(6, 24, 'manu', 'B', 22)\n",
      "(7, 25, 'apurva', 'B', 22)\n",
      "(8, 21, 'swara', 'B', 23)\n",
      "(9, 18, 'sanjeeb', 'B', 22)\n",
      "(10, 12, 'sanjana', 'A', 23)\n"
     ]
    }
   ],
   "source": [
    "import mysql.connector as mydb\n",
    "cnx = mydb.connect(host = 'localhost', user = 'root', password = '', database = 'university')\n",
    "cursor = cnx.cursor()\n",
    "\n",
    "cursor.execute('SELECT * FROM students')\n",
    "result = cursor.fetchall()\n",
    "\n",
    "for x in result:\n",
    "    print(x)"
   ]
  },
  {
   "cell_type": "code",
   "execution_count": 42,
   "id": "bb43220a",
   "metadata": {},
   "outputs": [
    {
     "name": "stdout",
     "output_type": "stream",
     "text": [
      "('Hemant', 21)\n",
      "('vijay', 21)\n",
      "('aniket', 22)\n",
      "('hitesh', 20)\n",
      "('rohit', 21)\n",
      "('manu', 22)\n",
      "('apurva', 22)\n",
      "('swara', 23)\n",
      "('sanjeeb', 22)\n",
      "('sanjana', 23)\n"
     ]
    }
   ],
   "source": [
    "# fetch specific column\n",
    "cursor.execute(\"SELECT students.name, students.age FROM students\")\n",
    "result = cursor.fetchall()\n",
    "for x in result:\n",
    "    print(x)"
   ]
  },
  {
   "cell_type": "code",
   "execution_count": 43,
   "id": "64ac9c7c",
   "metadata": {},
   "outputs": [
    {
     "name": "stdout",
     "output_type": "stream",
     "text": [
      "(1, 30, 'Hemant', 'B', 21)\n"
     ]
    }
   ],
   "source": [
    "import mysql.connector as mydb\n",
    "cnx = mydb.connect(host = 'localhost', user = 'root', password = '', database = 'university')\n",
    "cursor = cnx.cursor()\n",
    "\n",
    "cursor.execute('SELECT * FROM students')\n",
    "result = cursor.fetchone()\n",
    "print(result)"
   ]
  },
  {
   "cell_type": "markdown",
   "id": "6261990e",
   "metadata": {},
   "source": [
    "# Where"
   ]
  },
  {
   "cell_type": "code",
   "execution_count": 57,
   "id": "7470ce7d",
   "metadata": {},
   "outputs": [
    {
     "name": "stdout",
     "output_type": "stream",
     "text": [
      "(1, 30, 'Hemant', 'B', 21)\n",
      "(2, 90, 'vijay', 'B', 21)\n",
      "(3, 29, 'aniket', 'B', 22)\n",
      "(4, 28, 'hitesh', 'B', 20)\n",
      "(5, 19, 'rohit', 'B', 21)\n",
      "(6, 24, 'manu', 'B', 22)\n"
     ]
    }
   ],
   "source": [
    "import mysql.connector as mydb\n",
    "cnx = mydb.connect(host = 'localhost', user = 'root', password = '', database = 'university')\n",
    "cursor = cnx.cursor()\n",
    "\n",
    "sql = \"SELECT * FROM students WHERE id <= '6'\"\n",
    "cursor.execute(sql)\n",
    "result = cursor.fetchall()\n",
    "\n",
    "for x in result:\n",
    "    print(x)"
   ]
  },
  {
   "cell_type": "code",
   "execution_count": 61,
   "id": "31515e30",
   "metadata": {},
   "outputs": [
    {
     "name": "stdout",
     "output_type": "stream",
     "text": [
      "Enter name: vijay\n",
      "(2, 90, 'vijay', 'B', 21)\n"
     ]
    }
   ],
   "source": [
    "# fetch user Choice Values\n",
    "import mysql.connector as mydb\n",
    "cnx = mydb.connect(host = 'localhost', user = 'root', password = '', database = 'university')\n",
    "cursor = cnx.cursor()\n",
    "\n",
    "sql = \"SELECT * FROM students WHERE name = %s\"\n",
    "val = input('Enter name: ')\n",
    "lst = list()\n",
    "lst.append(val)\n",
    "cursor.execute(sql, lst)\n",
    "result = cursor.fetchall()\n",
    "\n",
    "for x in result:\n",
    "    print(x)"
   ]
  },
  {
   "cell_type": "markdown",
   "id": "4c5170b7",
   "metadata": {},
   "source": [
    "# Order By"
   ]
  },
  {
   "cell_type": "code",
   "execution_count": 62,
   "id": "dff7df0d",
   "metadata": {},
   "outputs": [
    {
     "name": "stdout",
     "output_type": "stream",
     "text": [
      "(3, 29, 'aniket', 'B', 22)\n",
      "(7, 25, 'apurva', 'B', 22)\n",
      "(1, 30, 'Hemant', 'B', 21)\n",
      "(4, 28, 'hitesh', 'B', 20)\n",
      "(6, 24, 'manu', 'B', 22)\n",
      "(5, 19, 'rohit', 'B', 21)\n",
      "(10, 12, 'sanjana', 'A', 23)\n",
      "(9, 18, 'sanjeeb', 'B', 22)\n",
      "(8, 21, 'swara', 'B', 23)\n",
      "(2, 90, 'vijay', 'B', 21)\n"
     ]
    }
   ],
   "source": [
    "import mysql.connector as mydb\n",
    "cnx = mydb.connect(host = 'localhost', user = 'root', password = '', database = 'university')\n",
    "cursor = cnx.cursor()\n",
    "\n",
    "sql = \"SELEct * FROM students ORDER BY name\"\n",
    "cursor.execute(sql)\n",
    "result = cursor.fetchall()\n",
    "\n",
    "for x in result:\n",
    "    print(x)"
   ]
  },
  {
   "cell_type": "code",
   "execution_count": 64,
   "id": "a86bb509",
   "metadata": {},
   "outputs": [
    {
     "name": "stdout",
     "output_type": "stream",
     "text": [
      "(2, 90, 'vijay', 'B', 21)\n",
      "(8, 21, 'swara', 'B', 23)\n",
      "(9, 18, 'sanjeeb', 'B', 22)\n",
      "(10, 12, 'sanjana', 'A', 23)\n",
      "(5, 19, 'rohit', 'B', 21)\n",
      "(6, 24, 'manu', 'B', 22)\n",
      "(4, 28, 'hitesh', 'B', 20)\n",
      "(1, 30, 'Hemant', 'B', 21)\n",
      "(7, 25, 'apurva', 'B', 22)\n",
      "(3, 29, 'aniket', 'B', 22)\n"
     ]
    }
   ],
   "source": [
    "sql = \"SELECT * FROM students ORDER BY name DESC\"\n",
    "cursor.execute(sql)\n",
    "result = cursor.fetchall()\n",
    "\n",
    "for x in result:\n",
    "    print(x)"
   ]
  },
  {
   "cell_type": "markdown",
   "id": "c8f01202",
   "metadata": {},
   "source": [
    "# Delete From By"
   ]
  },
  {
   "cell_type": "code",
   "execution_count": 72,
   "id": "c53843f2",
   "metadata": {},
   "outputs": [
    {
     "name": "stdout",
     "output_type": "stream",
     "text": [
      "(1, 30, 'Hemant', 'B', 21)\n",
      "(2, 90, 'vijay', 'B', 21)\n",
      "(3, 29, 'aniket', 'B', 22)\n",
      "(4, 28, 'hitesh', 'B', 20)\n",
      "(5, 19, 'rohit', 'B', 21)\n",
      "(6, 24, 'manu', 'B', 22)\n",
      "(7, 25, 'apurva', 'B', 22)\n",
      "(9, 18, 'sanjeeb', 'B', 22)\n",
      "(10, 12, 'sanjana', 'A', 23)\n"
     ]
    }
   ],
   "source": [
    "import mysql.connector as mydb\n",
    "cnx = mydb.connect(host = 'localhost', user = 'root', password = '', database = 'university')\n",
    "cursor = cnx.cursor()\n",
    "\n",
    "sql = \"DELETE FROM students WHERE name = 'swara'\"\n",
    "cursor.execute(sql)\n",
    "cnx.commit()\n",
    "sql = \"SELECT * FROM students\"\n",
    "cursor.execute(sql)\n",
    "result = cursor.fetchall()\n",
    "\n",
    "for x in result:\n",
    "    print(x)"
   ]
  },
  {
   "cell_type": "code",
   "execution_count": 73,
   "id": "87936521",
   "metadata": {},
   "outputs": [
    {
     "name": "stdout",
     "output_type": "stream",
     "text": [
      "enter name: apurva\n",
      "(1, 30, 'Hemant', 'B', 21)\n",
      "(2, 90, 'vijay', 'B', 21)\n",
      "(3, 29, 'aniket', 'B', 22)\n",
      "(4, 28, 'hitesh', 'B', 20)\n",
      "(5, 19, 'rohit', 'B', 21)\n",
      "(6, 24, 'manu', 'B', 22)\n",
      "(9, 18, 'sanjeeb', 'B', 22)\n",
      "(10, 12, 'sanjana', 'A', 23)\n"
     ]
    }
   ],
   "source": [
    "sql = \"DELETE FROM students WHERE name = %s\"\n",
    "lst = list()\n",
    "var = input(\"enter name: \")\n",
    "lst.append(var)\n",
    "cursor.execute(sql, lst)\n",
    "cnx.commit()\n",
    "sql = \"SELECT * FROM students\"\n",
    "cursor.execute(sql)\n",
    "result = cursor.fetchall()\n",
    "\n",
    "for x in result:\n",
    "    print(x)"
   ]
  },
  {
   "cell_type": "markdown",
   "id": "42903288",
   "metadata": {},
   "source": [
    "# Copy Table all contain into another Table"
   ]
  },
  {
   "cell_type": "code",
   "execution_count": 75,
   "id": "710f2baf",
   "metadata": {},
   "outputs": [
    {
     "name": "stdout",
     "output_type": "stream",
     "text": [
      "(1, 30, 'Hemant', 'B', 21)\n",
      "(2, 90, 'vijay', 'B', 21)\n",
      "(3, 29, 'aniket', 'B', 22)\n",
      "(4, 28, 'hitesh', 'B', 20)\n",
      "(5, 19, 'rohit', 'B', 21)\n",
      "(6, 24, 'manu', 'B', 22)\n",
      "(9, 18, 'sanjeeb', 'B', 22)\n",
      "(10, 12, 'sanjana', 'A', 23)\n"
     ]
    }
   ],
   "source": [
    "import mysql.connector as mydb\n",
    "cnx = mydb.connect(host = 'localhost', user = 'root', password = '', database = 'university')\n",
    "cursor = cnx.cursor()\n",
    "\n",
    "query = \"CREATE TABLE copy_students SELECT * FROM students\"\n",
    "cursor.execute(query)\n",
    "\n",
    "query = \"SELECT * FROM copy_students\"\n",
    "cursor.execute(query)\n",
    "\n",
    "result = cursor.fetchall()\n",
    "\n",
    "for x in result:\n",
    "    print(x)\n"
   ]
  },
  {
   "cell_type": "markdown",
   "id": "4bf30899",
   "metadata": {},
   "source": [
    "# Drop Table"
   ]
  },
  {
   "cell_type": "code",
   "execution_count": 76,
   "id": "0467df67",
   "metadata": {},
   "outputs": [],
   "source": [
    "import mysql.connector as mydb\n",
    "cnx = mydb.connect(host = 'localhost', user = 'root', password = '', database = 'university')\n",
    "cursor = cnx.cursor()\n",
    "\n",
    "sql = \"DROP TABLE copy_students\"\n",
    "cursor.execute(sql)"
   ]
  },
  {
   "cell_type": "markdown",
   "id": "1917a9d4",
   "metadata": {},
   "source": [
    "# Update Table"
   ]
  },
  {
   "cell_type": "code",
   "execution_count": 83,
   "id": "e20d1134",
   "metadata": {
    "scrolled": true
   },
   "outputs": [
    {
     "name": "stdout",
     "output_type": "stream",
     "text": [
      "(1, 30, 'Hemant', 'B', 29)\n",
      "(2, 90, 'vijay', 'B', 21)\n",
      "(3, 29, 'aniket', 'B', 22)\n",
      "(4, 28, 'hitesh', 'B', 20)\n",
      "(5, 19, 'rohit', 'B', 21)\n",
      "(6, 24, 'manu', 'B', 22)\n",
      "(9, 18, 'sanjeeb', 'B', 22)\n",
      "(10, 12, 'sanjana', 'A', 23)\n"
     ]
    }
   ],
   "source": [
    "import mysql.connector as mydb\n",
    "cnx = mydb.connect(host = 'localhost', user = 'root', password = '', database = 'university')\n",
    "cursor = cnx.cursor()\n",
    "\n",
    "sql = \"UPDATE students SET age = '29' WHERE name = 'Hemant'\"\n",
    "cursor.execute(sql)\n",
    "cnx.commit()\n",
    "\n",
    "sql = \"SELECT * FROM students\"\n",
    "cursor.execute(sql)\n",
    "\n",
    "result = cursor.fetchall()\n",
    "for x in result:\n",
    "    print(x)"
   ]
  }
 ],
 "metadata": {
  "kernelspec": {
   "display_name": "Python 3",
   "language": "python",
   "name": "python3"
  },
  "language_info": {
   "codemirror_mode": {
    "name": "ipython",
    "version": 3
   },
   "file_extension": ".py",
   "mimetype": "text/x-python",
   "name": "python",
   "nbconvert_exporter": "python",
   "pygments_lexer": "ipython3",
   "version": "3.8.8"
  }
 },
 "nbformat": 4,
 "nbformat_minor": 5
}
